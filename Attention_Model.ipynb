{
 "cells": [
  {
   "cell_type": "code",
   "execution_count": 1,
   "metadata": {},
   "outputs": [],
   "source": [
    "import tensorflow as tf"
   ]
  },
  {
   "cell_type": "code",
   "execution_count": 2,
   "metadata": {},
   "outputs": [],
   "source": [
    "from tensorflow.keras.layers import Bidirectional, Concatenate, Permute, Dot, Input, LSTM, Multiply\n",
    "from tensorflow.keras.layers import RepeatVector, Dense, Activation, Lambda\n",
    "from tensorflow.keras.optimizers import Adam\n",
    "from tensorflow.keras.utils import to_categorical\n",
    "from tensorflow.keras.models import load_model, Model\n",
    "import tensorflow.keras.backend as K\n",
    "import numpy as np\n",
    "\n",
    "from faker import Faker\n",
    "import random\n",
    "from tqdm import tqdm\n",
    "from babel.dates import format_date\n",
    "\n",
    "import matplotlib.pyplot as plt\n",
    "%matplotlib inline"
   ]
  },
  {
   "cell_type": "code",
   "execution_count": 3,
   "metadata": {
    "scrolled": true
   },
   "outputs": [
    {
     "name": "stdout",
     "output_type": "stream",
     "text": [
      "Requirement already satisfied: faker in /home/prateek/snap/jupyter/common/lib/python3.7/site-packages (4.1.1)\r\n",
      "Requirement already satisfied: text-unidecode==1.3 in /home/prateek/snap/jupyter/common/lib/python3.7/site-packages (from faker) (1.3)\r\n",
      "Requirement already satisfied: python-dateutil>=2.4 in /snap/jupyter/6/lib/python3.7/site-packages (from faker) (2.8.0)\r\n",
      "Requirement already satisfied: six>=1.5 in /snap/jupyter/6/lib/python3.7/site-packages (from python-dateutil>=2.4->faker) (1.12.0)\r\n"
     ]
    }
   ],
   "source": [
    "!pip install faker"
   ]
  },
  {
   "cell_type": "code",
   "execution_count": 4,
   "metadata": {},
   "outputs": [
    {
     "name": "stdout",
     "output_type": "stream",
     "text": [
      "Requirement already satisfied: tqdm in /home/prateek/snap/jupyter/common/lib/python3.7/site-packages (4.46.1)\r\n"
     ]
    }
   ],
   "source": [
    "!pip install tqdm"
   ]
  },
  {
   "cell_type": "code",
   "execution_count": 5,
   "metadata": {
    "scrolled": true
   },
   "outputs": [
    {
     "name": "stdout",
     "output_type": "stream",
     "text": [
      "Requirement already satisfied: babel in /home/prateek/snap/jupyter/common/lib/python3.7/site-packages (2.8.0)\r\n",
      "Requirement already satisfied: pytz>=2015.7 in /home/prateek/snap/jupyter/common/lib/python3.7/site-packages (from babel) (2020.1)\r\n"
     ]
    }
   ],
   "source": [
    "!pip install babel"
   ]
  },
  {
   "cell_type": "code",
   "execution_count": 6,
   "metadata": {},
   "outputs": [],
   "source": [
    "import numpy as np"
   ]
  },
  {
   "cell_type": "code",
   "execution_count": 7,
   "metadata": {},
   "outputs": [
    {
     "data": {
      "text/plain": [
       "'/home/prateek/conversational_bot'"
      ]
     },
     "execution_count": 7,
     "metadata": {},
     "output_type": "execute_result"
    }
   ],
   "source": [
    "import os\n",
    "os.getcwd()\n"
   ]
  },
  {
   "cell_type": "code",
   "execution_count": 8,
   "metadata": {},
   "outputs": [
    {
     "name": "stdout",
     "output_type": "stream",
     "text": [
      "Found 1000000 word vectors.\n"
     ]
    }
   ],
   "source": [
    "dataset = []\n",
    "i = 0\n",
    "with open(\"subtitles\", 'r') as f:\n",
    "    for line in f:\n",
    "        values = line.lower()\n",
    "        dataset.append(values)\n",
    "        i = i + 1\n",
    "        if i == 1000000:\n",
    "          break\n",
    "print('Found %s word vectors.' % len(dataset))"
   ]
  },
  {
   "cell_type": "code",
   "execution_count": 9,
   "metadata": {},
   "outputs": [],
   "source": [
    "#taken from one of the tensorflow pa\n",
    "vocab_size = 20000                    \n",
    "embedding_dim = 200\n",
    "max_length = 20               \n",
    "trunc_type='post'\n",
    "oov_tok = \"<OOV>\"\n",
    "MAX_SEQUENCE_LENGTH=20\n",
    "from tensorflow.keras.preprocessing.text import Tokenizer\n",
    "from tensorflow.keras.preprocessing.sequence import pad_sequences\n",
    "\n",
    "tokenizer = Tokenizer(num_words = vocab_size, oov_token=oov_tok)\n",
    "tokenizer.fit_on_texts(dataset)\n",
    "word_index = tokenizer.word_index\n",
    "sequences = tokenizer.texts_to_sequences(dataset)\n",
    "padded = pad_sequences(sequences,maxlen=max_length, truncating=trunc_type, padding = 'post')"
   ]
  },
  {
   "cell_type": "code",
   "execution_count": 10,
   "metadata": {},
   "outputs": [
    {
     "name": "stdout",
     "output_type": "stream",
     "text": [
      "Found 400000 word vectors.\n"
     ]
    }
   ],
   "source": [
    "#taken from https://blog.keras.io/using-pre-trained-word-embeddings-in-a-keras-model.html\n",
    "embeddings_index = {}\n",
    "with open(\"glove.6B.200d.txt\", 'r') as f:\n",
    "    for line in f:\n",
    "        values = line.split()\n",
    "        word = values[0]\n",
    "        coefs = np.asarray(values[1:], dtype='float32')\n",
    "        embeddings_index[word] = coefs\n",
    "    \n",
    "\n",
    "print('Found %s word vectors.' % len(embeddings_index))"
   ]
  },
  {
   "cell_type": "code",
   "execution_count": 11,
   "metadata": {},
   "outputs": [],
   "source": [
    "embedding_matrix = np.zeros((len(word_index) + 1,200))\n",
    "for word, i in word_index.items():\n",
    "    embedding_vector = embeddings_index.get(word)\n",
    "    if embedding_vector is not None:\n",
    "        # words not found in embedding index will be all-zeros.\n",
    "        embedding_matrix[i] = embedding_vector\n",
    "        \n",
    "from tensorflow.keras.layers import Embedding\n",
    "\n",
    "embedding_layer = Embedding(len(word_index) + 1,\n",
    "                            200,\n",
    "                            weights=[embedding_matrix],\n",
    "                            input_length=MAX_SEQUENCE_LENGTH,\n",
    "                            trainable=False)"
   ]
  },
  {
   "cell_type": "code",
   "execution_count": 12,
   "metadata": {},
   "outputs": [
    {
     "name": "stdout",
     "output_type": "stream",
     "text": [
      "they made the men dig their own graves.\n",
      "\n"
     ]
    }
   ],
   "source": [
    "print(dataset[999999])"
   ]
  },
  {
   "cell_type": "code",
   "execution_count": 13,
   "metadata": {},
   "outputs": [],
   "source": [
    "index_word = {}\n",
    "for word , index in word_index.items():\n",
    "    index_word[index] = word"
   ]
  },
  {
   "cell_type": "code",
   "execution_count": 14,
   "metadata": {},
   "outputs": [
    {
     "name": "stdout",
     "output_type": "stream",
     "text": [
      "[ 48  30 268   0   0   0   0   0   0   0   0   0   0   0   0   0   0   0\n",
      "   0   0]\n",
      "[ 30  87   5 169   0   0   0   0   0   0   0   0   0   0   0   0   0   0\n",
      "   0   0]\n",
      "(10000, 20)\n",
      "(10000, 20)\n"
     ]
    }
   ],
   "source": [
    "input_seq = []\n",
    "input_labs = []\n",
    "j = 0\n",
    "for i in padded:\n",
    "  if j%2 == 0:\n",
    "    input_seq.append(i)\n",
    "  if j%2 == 1:\n",
    "    input_labs.append(i)\n",
    "  j+=1\n",
    "  if j == 20000:\n",
    "    break\n",
    "\n",
    "input_seq = np.array(input_seq)\n",
    "input_labs = np.array(input_labs)\n",
    "\n",
    "print(input_seq[8])\n",
    "print(input_labs[3])\n",
    "print(input_seq.shape)\n",
    "print(input_labs.shape)"
   ]
  },
  {
   "cell_type": "code",
   "execution_count": 15,
   "metadata": {},
   "outputs": [
    {
     "name": "stdout",
     "output_type": "stream",
     "text": [
      "[ 2726   100 12873  1352     0     0     0     0     0     0     0     0\n",
      "     0     0     0     0     0     0     0     0]\n"
     ]
    }
   ],
   "source": [
    "print(input_seq[0])"
   ]
  },
  {
   "cell_type": "code",
   "execution_count": 52,
   "metadata": {},
   "outputs": [
    {
     "name": "stdout",
     "output_type": "stream",
     "text": [
      "10000\n"
     ]
    }
   ],
   "source": [
    "print(len(input_labs))"
   ]
  },
  {
   "cell_type": "code",
   "execution_count": 16,
   "metadata": {},
   "outputs": [],
   "source": [
    "def softmax(x, axis=1):\n",
    "    \"\"\"Softmax activation function.\n",
    "    # Arguments\n",
    "        x : Tensor.\n",
    "        axis: Integer, axis along which the softmax normalization is applied.\n",
    "    # Returns\n",
    "        Tensor, output of softmax transformation.\n",
    "    # Raises\n",
    "        ValueError: In case `dim(x) == 1`.\n",
    "    \"\"\"\n",
    "    ndim = K.ndim(x)\n",
    "    if ndim == 2:\n",
    "        return K.softmax(x)\n",
    "    elif ndim > 2:\n",
    "        e = K.exp(x - K.max(x, axis=axis, keepdims=True))\n",
    "        s = K.sum(e, axis=axis, keepdims=True)\n",
    "        return e / s\n",
    "    else:\n",
    "        raise ValueError('Cannot apply softmax to a tensor that is 1D')"
   ]
  },
  {
   "cell_type": "code",
   "execution_count": 17,
   "metadata": {},
   "outputs": [],
   "source": [
    "# Defined shared layers as global variables\n",
    "repeator = RepeatVector(20)\n",
    "concatenator = Concatenate(axis=-1)\n",
    "densor1 = Dense(10, activation = \"tanh\")\n",
    "densor2 = Dense(1, activation = \"relu\")\n",
    "activator = Activation(softmax, name='attention_weights') # We are using a custom softmax(axis = 1) loaded in this notebook\n",
    "dotor = Dot(axes = 1)"
   ]
  },
  {
   "cell_type": "code",
   "execution_count": null,
   "metadata": {},
   "outputs": [],
   "source": []
  },
  {
   "cell_type": "code",
   "execution_count": 18,
   "metadata": {},
   "outputs": [],
   "source": [
    "# GRADED FUNCTION: one_step_attention\n",
    "\n",
    "def one_step_attention(a, s_prev):\n",
    "    \"\"\"\n",
    "    Performs one step of attention: Outputs a context vector computed as a dot product of the attention weights\n",
    "    \"alphas\" and the hidden states \"a\" of the Bi-LSTM.\n",
    "    \n",
    "    Arguments:\n",
    "    a -- hidden state output of the Bi-LSTM, numpy-array of shape (m, Tx, 2*n_a)\n",
    "    s_prev -- previous hidden state of the (post-attention) LSTM, numpy-array of shape (m, n_s)\n",
    "    \n",
    "    Returns:\n",
    "    context -- context vector, input of the next (post-attention) LSTM cell\n",
    "    \"\"\"\n",
    "    \n",
    "    ### START CODE HERE ###\n",
    "    # Use repeator to repeat s_prev to be of shape (m, Tx, n_s) so that you can concatenate it with all hidden states \"a\" (≈ 1 line)\n",
    "    s_prev = repeator(s_prev)\n",
    "    # Use concatenator to concatenate a and s_prev on the last axis (≈ 1 line)\n",
    "    # For grading purposes, please list 'a' first and 's_prev' second, in this order.\n",
    "    concat = concatenator([a,s_prev])\n",
    "    # Use densor1 to propagate concat through a small fully-connected neural network to compute the \"intermediate energies\" variable e. (≈1 lines)\n",
    "    e = densor1(concat)\n",
    "    # Use densor2 to propagate e through a small fully-connected neural network to compute the \"energies\" variable energies. (≈1 lines)\n",
    "    energies = densor2(e)\n",
    "    # Use \"activator\" on \"energies\" to compute the attention weights \"alphas\" (≈ 1 line)\n",
    "    alphas = activator(energies)\n",
    "    # Use dotor together with \"alphas\" and \"a\" to compute the context vector to be given to the next (post-attention) LSTM-cell (≈ 1 line)\n",
    "    context = dotor([alphas,a])\n",
    "    ### END CODE HERE ###\n",
    "    \n",
    "    return context"
   ]
  },
  {
   "cell_type": "code",
   "execution_count": 51,
   "metadata": {},
   "outputs": [],
   "source": [
    "n_a = 128 # number of units for the pre-attention, bi-directional LSTM's hidden state 'a'\n",
    "n_s = 128 # number of units for the post-attention LSTM's hidden state \"s\"\n",
    "\n",
    "# Please note, this is the post attention LSTM cell.  \n",
    "# For the purposes of passing the automatic grader\n",
    "# please do not modify this global variable.  This will be corrected once the automatic grader is also updated.\n",
    "post_activation_LSTM_cell = LSTM(n_s, return_state = True) # post-attention LSTM \n",
    "#output_layer = Dense(len(input_labs), activation=softmax)\n",
    "output_layer = Dense(20000, activation=softmax)\n"
   ]
  },
  {
   "cell_type": "code",
   "execution_count": 53,
   "metadata": {},
   "outputs": [],
   "source": [
    "def model(Tx, Ty, n_a, n_s, human_vocab_size, machine_vocab_size):\n",
    "    \"\"\"\n",
    "    Arguments:\n",
    "    Tx -- length of the input sequence\n",
    "    Ty -- length of the output sequence\n",
    "    n_a -- hidden state size of the Bi-LSTM\n",
    "    n_s -- hidden state size of the post-attention LSTM\n",
    "    human_vocab_size -- size of the python dictionary \"human_vocab\"\n",
    "    machine_vocab_size -- size of the python dictionary \"machine_vocab\"\n",
    "\n",
    "    Returns:\n",
    "    model -- Keras model instance\n",
    "    \"\"\"\n",
    "    \n",
    "    # Define the inputs of your model with a shape (Tx,)\n",
    "    # Define s0 (initial hidden state) and c0 (initial cell state)\n",
    "    # for the decoder LSTM with shape (n_s,)\n",
    "    X = Input(shape=(Tx,))\n",
    "    s0 = Input(shape=(n_s,), name='s0')\n",
    "    c0 = Input(shape=(n_s,), name='c0')\n",
    "    s = s0\n",
    "    c = c0\n",
    "    \n",
    "    # Initialize empty list of outputs\n",
    "    outputs = []\n",
    "    \n",
    "    ### START CODE HERE ###\n",
    "    e = embedding_layer(X)\n",
    "    \n",
    "    a = Bidirectional(LSTM(units = n_a ,return_sequences = True))(e)\n",
    "    # Step 1: Define your pre-attention Bi-LSTM. (≈ 1 line)\n",
    "    #a = Bidirectional(LSTM(units=n_a, return_sequences=True))(X)\n",
    "    \n",
    "    # Step 2: Iterate for Ty steps\n",
    "    for t in range(Ty):\n",
    "    \n",
    "        # Step 2.A: Perform one step of the attention mechanism to get back the context vector at step t (≈ 1 line)\n",
    "        context = one_step_attention(a, s) \n",
    "        \n",
    "        # Step 2.B: Apply the post-attention LSTM cell to the \"context\" vector.\n",
    "        # Don't forget to pass: initial_state = [hidden state, cell state] (≈ 1 line)\n",
    "        s, _, c = post_activation_LSTM_cell(inputs=context, initial_state=[s, c])\n",
    "        \n",
    "        # Step 2.C: Apply Dense layer to the hidden state output of the post-attention LSTM (≈ 1 line)\n",
    "        out = output_layer(s)\n",
    "        \n",
    "        # Step 2.D: Append \"out\" to the \"outputs\" list (≈ 1 line)\n",
    "        outputs.append(out)\n",
    "    \n",
    "    # Step 3: Create model instance taking three inputs and returning the list of outputs. (≈ 1 line)\n",
    "        model = Model(inputs=[X,s0,c0], outputs=outputs)\n",
    "    \n",
    "    ### END CODE HERE ###\n",
    "    \n",
    "    return model"
   ]
  },
  {
   "cell_type": "code",
   "execution_count": 54,
   "metadata": {},
   "outputs": [],
   "source": [
    "model = model(20, 20, n_a, n_s, 20000, 20000)\n"
   ]
  },
  {
   "cell_type": "code",
   "execution_count": 55,
   "metadata": {},
   "outputs": [
    {
     "name": "stdout",
     "output_type": "stream",
     "text": [
      "Model: \"model_39\"\n",
      "__________________________________________________________________________________________________\n",
      "Layer (type)                    Output Shape         Param #     Connected to                     \n",
      "==================================================================================================\n",
      "input_3 (InputLayer)            [(None, 20)]         0                                            \n",
      "__________________________________________________________________________________________________\n",
      "embedding (Embedding)           multiple             9013800     input_3[0][0]                    \n",
      "__________________________________________________________________________________________________\n",
      "s0 (InputLayer)                 [(None, 128)]        0                                            \n",
      "__________________________________________________________________________________________________\n",
      "bidirectional_2 (Bidirectional) (None, 20, 256)      336896      embedding[2][0]                  \n",
      "__________________________________________________________________________________________________\n",
      "repeat_vector (RepeatVector)    (None, 20, 128)      0           s0[0][0]                         \n",
      "                                                                 lstm_3[0][0]                     \n",
      "                                                                 lstm_3[1][0]                     \n",
      "                                                                 lstm_3[2][0]                     \n",
      "                                                                 lstm_3[3][0]                     \n",
      "                                                                 lstm_3[4][0]                     \n",
      "                                                                 lstm_3[5][0]                     \n",
      "                                                                 lstm_3[6][0]                     \n",
      "                                                                 lstm_3[7][0]                     \n",
      "                                                                 lstm_3[8][0]                     \n",
      "                                                                 lstm_3[9][0]                     \n",
      "                                                                 lstm_3[10][0]                    \n",
      "                                                                 lstm_3[11][0]                    \n",
      "                                                                 lstm_3[12][0]                    \n",
      "                                                                 lstm_3[13][0]                    \n",
      "                                                                 lstm_3[14][0]                    \n",
      "                                                                 lstm_3[15][0]                    \n",
      "                                                                 lstm_3[16][0]                    \n",
      "                                                                 lstm_3[17][0]                    \n",
      "                                                                 lstm_3[18][0]                    \n",
      "__________________________________________________________________________________________________\n",
      "concatenate (Concatenate)       (None, 20, 384)      0           bidirectional_2[0][0]            \n",
      "                                                                 repeat_vector[20][0]             \n",
      "                                                                 bidirectional_2[0][0]            \n",
      "                                                                 repeat_vector[21][0]             \n",
      "                                                                 bidirectional_2[0][0]            \n",
      "                                                                 repeat_vector[22][0]             \n",
      "                                                                 bidirectional_2[0][0]            \n",
      "                                                                 repeat_vector[23][0]             \n",
      "                                                                 bidirectional_2[0][0]            \n",
      "                                                                 repeat_vector[24][0]             \n",
      "                                                                 bidirectional_2[0][0]            \n",
      "                                                                 repeat_vector[25][0]             \n",
      "                                                                 bidirectional_2[0][0]            \n",
      "                                                                 repeat_vector[26][0]             \n",
      "                                                                 bidirectional_2[0][0]            \n",
      "                                                                 repeat_vector[27][0]             \n",
      "                                                                 bidirectional_2[0][0]            \n",
      "                                                                 repeat_vector[28][0]             \n",
      "                                                                 bidirectional_2[0][0]            \n",
      "                                                                 repeat_vector[29][0]             \n",
      "                                                                 bidirectional_2[0][0]            \n",
      "                                                                 repeat_vector[30][0]             \n",
      "                                                                 bidirectional_2[0][0]            \n",
      "                                                                 repeat_vector[31][0]             \n",
      "                                                                 bidirectional_2[0][0]            \n",
      "                                                                 repeat_vector[32][0]             \n",
      "                                                                 bidirectional_2[0][0]            \n",
      "                                                                 repeat_vector[33][0]             \n",
      "                                                                 bidirectional_2[0][0]            \n",
      "                                                                 repeat_vector[34][0]             \n",
      "                                                                 bidirectional_2[0][0]            \n",
      "                                                                 repeat_vector[35][0]             \n",
      "                                                                 bidirectional_2[0][0]            \n",
      "                                                                 repeat_vector[36][0]             \n",
      "                                                                 bidirectional_2[0][0]            \n",
      "                                                                 repeat_vector[37][0]             \n",
      "                                                                 bidirectional_2[0][0]            \n",
      "                                                                 repeat_vector[38][0]             \n",
      "                                                                 bidirectional_2[0][0]            \n",
      "                                                                 repeat_vector[39][0]             \n",
      "__________________________________________________________________________________________________\n",
      "dense (Dense)                   (None, 20, 10)       3850        concatenate[20][0]               \n",
      "                                                                 concatenate[21][0]               \n",
      "                                                                 concatenate[22][0]               \n",
      "                                                                 concatenate[23][0]               \n",
      "                                                                 concatenate[24][0]               \n",
      "                                                                 concatenate[25][0]               \n",
      "                                                                 concatenate[26][0]               \n",
      "                                                                 concatenate[27][0]               \n",
      "                                                                 concatenate[28][0]               \n",
      "                                                                 concatenate[29][0]               \n",
      "                                                                 concatenate[30][0]               \n",
      "                                                                 concatenate[31][0]               \n",
      "                                                                 concatenate[32][0]               \n",
      "                                                                 concatenate[33][0]               \n",
      "                                                                 concatenate[34][0]               \n",
      "                                                                 concatenate[35][0]               \n",
      "                                                                 concatenate[36][0]               \n",
      "                                                                 concatenate[37][0]               \n",
      "                                                                 concatenate[38][0]               \n",
      "                                                                 concatenate[39][0]               \n",
      "__________________________________________________________________________________________________\n",
      "dense_1 (Dense)                 (None, 20, 1)        11          dense[20][0]                     \n",
      "                                                                 dense[21][0]                     \n",
      "                                                                 dense[22][0]                     \n",
      "                                                                 dense[23][0]                     \n",
      "                                                                 dense[24][0]                     \n",
      "                                                                 dense[25][0]                     \n",
      "                                                                 dense[26][0]                     \n",
      "                                                                 dense[27][0]                     \n",
      "                                                                 dense[28][0]                     \n",
      "                                                                 dense[29][0]                     \n",
      "                                                                 dense[30][0]                     \n",
      "                                                                 dense[31][0]                     \n",
      "                                                                 dense[32][0]                     \n",
      "                                                                 dense[33][0]                     \n",
      "                                                                 dense[34][0]                     \n",
      "                                                                 dense[35][0]                     \n",
      "                                                                 dense[36][0]                     \n",
      "                                                                 dense[37][0]                     \n",
      "                                                                 dense[38][0]                     \n",
      "                                                                 dense[39][0]                     \n",
      "__________________________________________________________________________________________________\n",
      "attention_weights (Activation)  (None, 20, 1)        0           dense_1[20][0]                   \n",
      "                                                                 dense_1[21][0]                   \n",
      "                                                                 dense_1[22][0]                   \n",
      "                                                                 dense_1[23][0]                   \n",
      "                                                                 dense_1[24][0]                   \n",
      "                                                                 dense_1[25][0]                   \n",
      "                                                                 dense_1[26][0]                   \n",
      "                                                                 dense_1[27][0]                   \n",
      "                                                                 dense_1[28][0]                   \n",
      "                                                                 dense_1[29][0]                   \n",
      "                                                                 dense_1[30][0]                   \n",
      "                                                                 dense_1[31][0]                   \n",
      "                                                                 dense_1[32][0]                   \n",
      "                                                                 dense_1[33][0]                   \n",
      "                                                                 dense_1[34][0]                   \n",
      "                                                                 dense_1[35][0]                   \n",
      "                                                                 dense_1[36][0]                   \n",
      "                                                                 dense_1[37][0]                   \n",
      "                                                                 dense_1[38][0]                   \n",
      "                                                                 dense_1[39][0]                   \n",
      "__________________________________________________________________________________________________\n",
      "dot (Dot)                       (None, 1, 256)       0           attention_weights[20][0]         \n",
      "                                                                 bidirectional_2[0][0]            \n",
      "                                                                 attention_weights[21][0]         \n",
      "                                                                 bidirectional_2[0][0]            \n",
      "                                                                 attention_weights[22][0]         \n",
      "                                                                 bidirectional_2[0][0]            \n",
      "                                                                 attention_weights[23][0]         \n",
      "                                                                 bidirectional_2[0][0]            \n",
      "                                                                 attention_weights[24][0]         \n",
      "                                                                 bidirectional_2[0][0]            \n",
      "                                                                 attention_weights[25][0]         \n",
      "                                                                 bidirectional_2[0][0]            \n",
      "                                                                 attention_weights[26][0]         \n",
      "                                                                 bidirectional_2[0][0]            \n",
      "                                                                 attention_weights[27][0]         \n",
      "                                                                 bidirectional_2[0][0]            \n",
      "                                                                 attention_weights[28][0]         \n",
      "                                                                 bidirectional_2[0][0]            \n",
      "                                                                 attention_weights[29][0]         \n",
      "                                                                 bidirectional_2[0][0]            \n",
      "                                                                 attention_weights[30][0]         \n",
      "                                                                 bidirectional_2[0][0]            \n",
      "                                                                 attention_weights[31][0]         \n",
      "                                                                 bidirectional_2[0][0]            \n",
      "                                                                 attention_weights[32][0]         \n",
      "                                                                 bidirectional_2[0][0]            \n",
      "                                                                 attention_weights[33][0]         \n",
      "                                                                 bidirectional_2[0][0]            \n",
      "                                                                 attention_weights[34][0]         \n",
      "                                                                 bidirectional_2[0][0]            \n",
      "                                                                 attention_weights[35][0]         \n",
      "                                                                 bidirectional_2[0][0]            \n",
      "                                                                 attention_weights[36][0]         \n",
      "                                                                 bidirectional_2[0][0]            \n",
      "                                                                 attention_weights[37][0]         \n",
      "                                                                 bidirectional_2[0][0]            \n",
      "                                                                 attention_weights[38][0]         \n",
      "                                                                 bidirectional_2[0][0]            \n",
      "                                                                 attention_weights[39][0]         \n",
      "                                                                 bidirectional_2[0][0]            \n",
      "__________________________________________________________________________________________________\n",
      "c0 (InputLayer)                 [(None, 128)]        0                                            \n",
      "__________________________________________________________________________________________________\n",
      "lstm_3 (LSTM)                   [(None, 128), (None, 197120      dot[20][0]                       \n",
      "                                                                 s0[0][0]                         \n",
      "                                                                 c0[0][0]                         \n",
      "                                                                 dot[21][0]                       \n",
      "                                                                 lstm_3[0][0]                     \n",
      "                                                                 lstm_3[0][2]                     \n",
      "                                                                 dot[22][0]                       \n",
      "                                                                 lstm_3[1][0]                     \n",
      "                                                                 lstm_3[1][2]                     \n",
      "                                                                 dot[23][0]                       \n",
      "                                                                 lstm_3[2][0]                     \n",
      "                                                                 lstm_3[2][2]                     \n",
      "                                                                 dot[24][0]                       \n",
      "                                                                 lstm_3[3][0]                     \n",
      "                                                                 lstm_3[3][2]                     \n",
      "                                                                 dot[25][0]                       \n",
      "                                                                 lstm_3[4][0]                     \n",
      "                                                                 lstm_3[4][2]                     \n",
      "                                                                 dot[26][0]                       \n",
      "                                                                 lstm_3[5][0]                     \n",
      "                                                                 lstm_3[5][2]                     \n",
      "                                                                 dot[27][0]                       \n",
      "                                                                 lstm_3[6][0]                     \n",
      "                                                                 lstm_3[6][2]                     \n",
      "                                                                 dot[28][0]                       \n",
      "                                                                 lstm_3[7][0]                     \n",
      "                                                                 lstm_3[7][2]                     \n",
      "                                                                 dot[29][0]                       \n",
      "                                                                 lstm_3[8][0]                     \n",
      "                                                                 lstm_3[8][2]                     \n",
      "                                                                 dot[30][0]                       \n",
      "                                                                 lstm_3[9][0]                     \n",
      "                                                                 lstm_3[9][2]                     \n",
      "                                                                 dot[31][0]                       \n",
      "                                                                 lstm_3[10][0]                    \n",
      "                                                                 lstm_3[10][2]                    \n",
      "                                                                 dot[32][0]                       \n",
      "                                                                 lstm_3[11][0]                    \n",
      "                                                                 lstm_3[11][2]                    \n",
      "                                                                 dot[33][0]                       \n",
      "                                                                 lstm_3[12][0]                    \n",
      "                                                                 lstm_3[12][2]                    \n",
      "                                                                 dot[34][0]                       \n",
      "                                                                 lstm_3[13][0]                    \n",
      "                                                                 lstm_3[13][2]                    \n",
      "                                                                 dot[35][0]                       \n",
      "                                                                 lstm_3[14][0]                    \n",
      "                                                                 lstm_3[14][2]                    \n",
      "                                                                 dot[36][0]                       \n",
      "                                                                 lstm_3[15][0]                    \n",
      "                                                                 lstm_3[15][2]                    \n",
      "                                                                 dot[37][0]                       \n",
      "                                                                 lstm_3[16][0]                    \n",
      "                                                                 lstm_3[16][2]                    \n",
      "                                                                 dot[38][0]                       \n",
      "                                                                 lstm_3[17][0]                    \n",
      "                                                                 lstm_3[17][2]                    \n",
      "                                                                 dot[39][0]                       \n",
      "                                                                 lstm_3[18][0]                    \n",
      "                                                                 lstm_3[18][2]                    \n",
      "__________________________________________________________________________________________________\n",
      "dense_3 (Dense)                 (None, 20000)        2580000     lstm_3[0][0]                     \n",
      "                                                                 lstm_3[1][0]                     \n",
      "                                                                 lstm_3[2][0]                     \n",
      "                                                                 lstm_3[3][0]                     \n",
      "                                                                 lstm_3[4][0]                     \n",
      "                                                                 lstm_3[5][0]                     \n",
      "                                                                 lstm_3[6][0]                     \n",
      "                                                                 lstm_3[7][0]                     \n",
      "                                                                 lstm_3[8][0]                     \n",
      "                                                                 lstm_3[9][0]                     \n",
      "                                                                 lstm_3[10][0]                    \n",
      "                                                                 lstm_3[11][0]                    \n",
      "                                                                 lstm_3[12][0]                    \n",
      "                                                                 lstm_3[13][0]                    \n",
      "                                                                 lstm_3[14][0]                    \n",
      "                                                                 lstm_3[15][0]                    \n",
      "                                                                 lstm_3[16][0]                    \n",
      "                                                                 lstm_3[17][0]                    \n",
      "                                                                 lstm_3[18][0]                    \n",
      "                                                                 lstm_3[19][0]                    \n",
      "==================================================================================================\n",
      "Total params: 12,131,677\n",
      "Trainable params: 3,117,877\n",
      "Non-trainable params: 9,013,800\n",
      "__________________________________________________________________________________________________\n"
     ]
    }
   ],
   "source": [
    "model.summary()"
   ]
  },
  {
   "cell_type": "code",
   "execution_count": 57,
   "metadata": {},
   "outputs": [],
   "source": [
    "m=10000\n",
    "s0 = np.zeros((m, n_s))\n",
    "c0 = np.zeros((m, n_s))\n",
    "outputs = list(input_labs.swapaxes(0,1))"
   ]
  },
  {
   "cell_type": "code",
   "execution_count": 58,
   "metadata": {},
   "outputs": [],
   "source": [
    "opt = Adam(lr = 0.005, beta_1 = 0.9,beta_2 = 0.999 , decay = 0.01)\n",
    "model.compile(optimizer = opt , loss = \"sparse_categorical_crossentropy\" ,metrics = ['accuracy'])"
   ]
  },
  {
   "cell_type": "code",
   "execution_count": 60,
   "metadata": {},
   "outputs": [
    {
     "name": "stdout",
     "output_type": "stream",
     "text": [
      "Epoch 1/5\n",
      "100/100 [==============================] - 54s 545ms/step - loss: 41.4885 - dense_3_loss: 6.3208 - dense_3_1_loss: 6.2769 - dense_3_2_loss: 5.3252 - dense_3_3_loss: 4.5328 - dense_3_4_loss: 3.7522 - dense_3_5_loss: 2.9598 - dense_3_6_loss: 2.3288 - dense_3_7_loss: 1.9102 - dense_3_8_loss: 1.5065 - dense_3_9_loss: 1.2167 - dense_3_10_loss: 0.9821 - dense_3_11_loss: 0.7911 - dense_3_12_loss: 0.6578 - dense_3_13_loss: 0.5615 - dense_3_14_loss: 0.5079 - dense_3_15_loss: 0.4445 - dense_3_16_loss: 0.3977 - dense_3_17_loss: 0.3642 - dense_3_18_loss: 0.3374 - dense_3_19_loss: 0.3144 - dense_3_accuracy: 0.0039 - dense_3_1_accuracy: 0.1492 - dense_3_2_accuracy: 0.3238 - dense_3_3_accuracy: 0.4456 - dense_3_4_accuracy: 0.5556 - dense_3_5_accuracy: 0.6571 - dense_3_6_accuracy: 0.7363 - dense_3_7_accuracy: 0.7949 - dense_3_8_accuracy: 0.8402 - dense_3_9_accuracy: 0.8795 - dense_3_10_accuracy: 0.9089 - dense_3_11_accuracy: 0.9299 - dense_3_12_accuracy: 0.9461 - dense_3_13_accuracy: 0.9571 - dense_3_14_accuracy: 0.9644 - dense_3_15_accuracy: 0.9713 - dense_3_16_accuracy: 0.9770 - dense_3_17_accuracy: 0.9810 - dense_3_18_accuracy: 0.9846 - dense_3_19_accuracy: 0.9867\n",
      "Epoch 2/5\n",
      "100/100 [==============================] - 58s 578ms/step - loss: 40.3665 - dense_3_loss: 6.2437 - dense_3_1_loss: 6.0667 - dense_3_2_loss: 5.1782 - dense_3_3_loss: 4.4311 - dense_3_4_loss: 3.6855 - dense_3_5_loss: 2.9201 - dense_3_6_loss: 2.2983 - dense_3_7_loss: 1.8820 - dense_3_8_loss: 1.4794 - dense_3_9_loss: 1.1862 - dense_3_10_loss: 0.9460 - dense_3_11_loss: 0.7611 - dense_3_12_loss: 0.6209 - dense_3_13_loss: 0.5256 - dense_3_14_loss: 0.4694 - dense_3_15_loss: 0.4081 - dense_3_16_loss: 0.3607 - dense_3_17_loss: 0.3263 - dense_3_18_loss: 0.2995 - dense_3_19_loss: 0.2778 - dense_3_accuracy: 0.0039 - dense_3_1_accuracy: 0.1492 - dense_3_2_accuracy: 0.3238 - dense_3_3_accuracy: 0.4456 - dense_3_4_accuracy: 0.5556 - dense_3_5_accuracy: 0.6571 - dense_3_6_accuracy: 0.7363 - dense_3_7_accuracy: 0.7949 - dense_3_8_accuracy: 0.8402 - dense_3_9_accuracy: 0.8795 - dense_3_10_accuracy: 0.9089 - dense_3_11_accuracy: 0.9299 - dense_3_12_accuracy: 0.9461 - dense_3_13_accuracy: 0.9571 - dense_3_14_accuracy: 0.9644 - dense_3_15_accuracy: 0.9713 - dense_3_16_accuracy: 0.9770 - dense_3_17_accuracy: 0.9810 - dense_3_18_accuracy: 0.9846 - dense_3_19_accuracy: 0.9867\n",
      "Epoch 3/5\n",
      "100/100 [==============================] - 64s 636ms/step - loss: 39.6693 - dense_3_loss: 6.1221 - dense_3_1_loss: 5.9576 - dense_3_2_loss: 5.1004 - dense_3_3_loss: 4.3807 - dense_3_4_loss: 3.6530 - dense_3_5_loss: 2.9018 - dense_3_6_loss: 2.2824 - dense_3_7_loss: 1.8659 - dense_3_8_loss: 1.4648 - dense_3_9_loss: 1.1701 - dense_3_10_loss: 0.9296 - dense_3_11_loss: 0.7379 - dense_3_12_loss: 0.5985 - dense_3_13_loss: 0.5042 - dense_3_14_loss: 0.4476 - dense_3_15_loss: 0.3842 - dense_3_16_loss: 0.3358 - dense_3_17_loss: 0.3025 - dense_3_18_loss: 0.2763 - dense_3_19_loss: 0.2538 - dense_3_accuracy: 0.0039 - dense_3_1_accuracy: 0.1492 - dense_3_2_accuracy: 0.3238 - dense_3_3_accuracy: 0.4456 - dense_3_4_accuracy: 0.5556 - dense_3_5_accuracy: 0.6571 - dense_3_6_accuracy: 0.7363 - dense_3_7_accuracy: 0.7949 - dense_3_8_accuracy: 0.8402 - dense_3_9_accuracy: 0.8795 - dense_3_10_accuracy: 0.9089 - dense_3_11_accuracy: 0.9299 - dense_3_12_accuracy: 0.9461 - dense_3_13_accuracy: 0.9571 - dense_3_14_accuracy: 0.9644 - dense_3_15_accuracy: 0.9713 - dense_3_16_accuracy: 0.9770 - dense_3_17_accuracy: 0.9810 - dense_3_18_accuracy: 0.9846 - dense_3_19_accuracy: 0.9867\n",
      "Epoch 4/5\n",
      "100/100 [==============================] - 65s 654ms/step - loss: 39.0565 - dense_3_loss: 6.0084 - dense_3_1_loss: 5.8590 - dense_3_2_loss: 5.0467 - dense_3_3_loss: 4.3394 - dense_3_4_loss: 3.6284 - dense_3_5_loss: 2.8814 - dense_3_6_loss: 2.2715 - dense_3_7_loss: 1.8556 - dense_3_8_loss: 1.4537 - dense_3_9_loss: 1.1564 - dense_3_10_loss: 0.9113 - dense_3_11_loss: 0.7218 - dense_3_12_loss: 0.5794 - dense_3_13_loss: 0.4831 - dense_3_14_loss: 0.4254 - dense_3_15_loss: 0.3622 - dense_3_16_loss: 0.3131 - dense_3_17_loss: 0.2781 - dense_3_18_loss: 0.2519 - dense_3_19_loss: 0.2296 - dense_3_accuracy: 0.0039 - dense_3_1_accuracy: 0.1492 - dense_3_2_accuracy: 0.3238 - dense_3_3_accuracy: 0.4456 - dense_3_4_accuracy: 0.5556 - dense_3_5_accuracy: 0.6571 - dense_3_6_accuracy: 0.7363 - dense_3_7_accuracy: 0.7949 - dense_3_8_accuracy: 0.8402 - dense_3_9_accuracy: 0.8795 - dense_3_10_accuracy: 0.9089 - dense_3_11_accuracy: 0.9299 - dense_3_12_accuracy: 0.9461 - dense_3_13_accuracy: 0.9571 - dense_3_14_accuracy: 0.9644 - dense_3_15_accuracy: 0.9713 - dense_3_16_accuracy: 0.9770 - dense_3_17_accuracy: 0.9810 - dense_3_18_accuracy: 0.9846 - dense_3_19_accuracy: 0.9867\n",
      "Epoch 5/5\n",
      "100/100 [==============================] - 62s 620ms/step - loss: 38.5853 - dense_3_loss: 5.9761 - dense_3_1_loss: 5.7848 - dense_3_2_loss: 4.9984 - dense_3_3_loss: 4.3100 - dense_3_4_loss: 3.5987 - dense_3_5_loss: 2.8657 - dense_3_6_loss: 2.2607 - dense_3_7_loss: 1.8464 - dense_3_8_loss: 1.4439 - dense_3_9_loss: 1.1440 - dense_3_10_loss: 0.8976 - dense_3_11_loss: 0.7051 - dense_3_12_loss: 0.5595 - dense_3_13_loss: 0.4636 - dense_3_14_loss: 0.4038 - dense_3_15_loss: 0.3407 - dense_3_16_loss: 0.2923 - dense_3_17_loss: 0.2569 - dense_3_18_loss: 0.2299 - dense_3_19_loss: 0.2073 - dense_3_accuracy: 0.0039 - dense_3_1_accuracy: 0.1492 - dense_3_2_accuracy: 0.3238 - dense_3_3_accuracy: 0.4456 - dense_3_4_accuracy: 0.5556 - dense_3_5_accuracy: 0.6571 - dense_3_6_accuracy: 0.7363 - dense_3_7_accuracy: 0.7949 - dense_3_8_accuracy: 0.8402 - dense_3_9_accuracy: 0.8795 - dense_3_10_accuracy: 0.9089 - dense_3_11_accuracy: 0.9299 - dense_3_12_accuracy: 0.9461 - dense_3_13_accuracy: 0.9571 - dense_3_14_accuracy: 0.9644 - dense_3_15_accuracy: 0.9713 - dense_3_16_accuracy: 0.9770 - dense_3_17_accuracy: 0.9810 - dense_3_18_accuracy: 0.9846 - dense_3_19_accuracy: 0.9867\n"
     ]
    },
    {
     "data": {
      "text/plain": [
       "<tensorflow.python.keras.callbacks.History at 0x7fa9f4cf4a20>"
      ]
     },
     "execution_count": 60,
     "metadata": {},
     "output_type": "execute_result"
    }
   ],
   "source": [
    "model.fit([input_seq, s0, c0], outputs, epochs=5, batch_size=100)"
   ]
  },
  {
   "cell_type": "code",
   "execution_count": null,
   "metadata": {},
   "outputs": [],
   "source": []
  }
 ],
 "metadata": {
  "kernelspec": {
   "display_name": "Python 3",
   "language": "python",
   "name": "python3"
  },
  "language_info": {
   "codemirror_mode": {
    "name": "ipython",
    "version": 3
   },
   "file_extension": ".py",
   "mimetype": "text/x-python",
   "name": "python",
   "nbconvert_exporter": "python",
   "pygments_lexer": "ipython3",
   "version": "3.7.3"
  }
 },
 "nbformat": 4,
 "nbformat_minor": 2
}
